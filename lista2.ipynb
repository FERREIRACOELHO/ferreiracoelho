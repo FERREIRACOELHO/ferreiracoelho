{
  "nbformat": 4,
  "nbformat_minor": 0,
  "metadata": {
    "colab": {
      "provenance": [],
      "authorship_tag": "ABX9TyOqjpIjPbRdEXSuzPkJs9kB",
      "include_colab_link": true
    },
    "kernelspec": {
      "name": "python3",
      "display_name": "Python 3"
    },
    "language_info": {
      "name": "python"
    }
  },
  "cells": [
    {
      "cell_type": "markdown",
      "metadata": {
        "id": "view-in-github",
        "colab_type": "text"
      },
      "source": [
        "<a href=\"https://colab.research.google.com/github/FERREIRACOELHO/ferreiracoelho/blob/main/lista2.ipynb\" target=\"_parent\"><img src=\"https://colab.research.google.com/assets/colab-badge.svg\" alt=\"Open In Colab\"/></a>"
      ]
    },
    {
      "cell_type": "code",
      "execution_count": null,
      "metadata": {
        "colab": {
          "base_uri": "https://localhost:8080/"
        },
        "collapsed": true,
        "id": "u6Xcdv_HSjR-",
        "outputId": "c566e363-c756-4c38-d4ef-2593f8046fd6"
      },
      "outputs": [
        {
          "output_type": "execute_result",
          "data": {
            "text/plain": [
              "[1, 2, 3, 4, 5, 6, 7, 8, 9]"
            ]
          },
          "metadata": {},
          "execution_count": 17
        }
      ],
      "source": [
        "from re import RegexFlag\n",
        "# Exemplos de Listas:\n",
        "list(range(10))\n",
        "list(range(1,10))"
      ]
    },
    {
      "cell_type": "code",
      "source": [
        "frutas = ['maça', 'banana', 'laranja']\n",
        "print (frutas)\n",
        "print (frutas[0])\n",
        "print (frutas[-1])\n",
        "print (frutas[-2])\n",
        "frutas[0]"
      ],
      "metadata": {
        "id": "Vt4gI7EBWPot"
      },
      "execution_count": null,
      "outputs": []
    },
    {
      "cell_type": "code",
      "source": [
        "frutas1 = [ 'abacaxi,', 'laranja','banana', 'manga']\n",
        "print (frutas1)\n",
        "#frutas1 [0]\n",
        "#len(frutas1)\n",
        "'laranja'in frutas1\n",
        "'laranja'not in frutas1\n",
        "frutas1 [0]= 'melancia'\n",
        "print (frutas1)\n",
        "frutas1.append('uva')\n",
        "print (frutas1)\n",
        "frutas1.remove('banana')\n",
        "print (frutas1)\n",
        "frutas1.insert ( 0, 'jaca')\n",
        "print (frutas1)\n",
        "frutas1.sort()\n",
        "print (frutas1)\n",
        "frutas1.pop()\n",
        "print (frutas1)\n",
        "frutas1.pop(0)\n",
        "print (frutas1.index('laranja'))\n",
        "print (frutas1)\n",
        "print (frutas1.count('uva'))"
      ],
      "metadata": {
        "colab": {
          "base_uri": "https://localhost:8080/"
        },
        "id": "wxkaQYvAQFmt",
        "outputId": "73fcc6bf-60b8-4b3a-a3e7-cbd12b595339"
      },
      "execution_count": 52,
      "outputs": [
        {
          "output_type": "stream",
          "name": "stdout",
          "text": [
            "['abacaxi,', 'laranja', 'banana', 'manga']\n",
            "['melancia', 'laranja', 'banana', 'manga']\n",
            "['melancia', 'laranja', 'banana', 'manga', 'uva']\n",
            "['melancia', 'laranja', 'manga', 'uva']\n",
            "['jaca', 'melancia', 'laranja', 'manga', 'uva']\n",
            "['jaca', 'laranja', 'manga', 'melancia', 'uva']\n",
            "['jaca', 'laranja', 'manga', 'melancia']\n",
            "0\n",
            "['laranja', 'manga', 'melancia']\n",
            "0\n"
          ]
        }
      ]
    }
  ]
}