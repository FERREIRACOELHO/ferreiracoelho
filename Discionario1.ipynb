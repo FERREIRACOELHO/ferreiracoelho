{
  "nbformat": 4,
  "nbformat_minor": 0,
  "metadata": {
    "colab": {
      "provenance": [],
      "authorship_tag": "ABX9TyMBtn5u0Is5Tuwo3xxnTpA/",
      "include_colab_link": true
    },
    "kernelspec": {
      "name": "python3",
      "display_name": "Python 3"
    },
    "language_info": {
      "name": "python"
    }
  },
  "cells": [
    {
      "cell_type": "markdown",
      "metadata": {
        "id": "view-in-github",
        "colab_type": "text"
      },
      "source": [
        "<a href=\"https://colab.research.google.com/github/FERREIRACOELHO/ferreiracoelho/blob/main/Discionario1.ipynb\" target=\"_parent\"><img src=\"https://colab.research.google.com/assets/colab-badge.svg\" alt=\"Open In Colab\"/></a>"
      ]
    },
    {
      "cell_type": "code",
      "execution_count": 7,
      "metadata": {
        "colab": {
          "base_uri": "https://localhost:8080/"
        },
        "id": "lAx9ApAia1IS",
        "outputId": "0bdaf80e-489d-4692-8964-d489b3ec8c90"
      },
      "outputs": [
        {
          "output_type": "execute_result",
          "data": {
            "text/plain": [
              "['banana', 'maça', 'uva']"
            ]
          },
          "metadata": {},
          "execution_count": 7
        }
      ],
      "source": [
        "estrutura_dados = {\n",
        "    'lista': ['banana', 'maça', 'uva'],\n",
        "    'tupla': ('banana', 'maça', 'uva'),\n",
        "}\n",
        "estrutura_dados['lista']"
      ]
    }
  ]
}