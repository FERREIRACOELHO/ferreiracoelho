{
  "nbformat": 4,
  "nbformat_minor": 0,
  "metadata": {
    "colab": {
      "provenance": [],
      "authorship_tag": "ABX9TyO754NIzJgK32XKBzZrAe7a",
      "include_colab_link": true
    },
    "kernelspec": {
      "name": "python3",
      "display_name": "Python 3"
    },
    "language_info": {
      "name": "python"
    }
  },
  "cells": [
    {
      "cell_type": "markdown",
      "metadata": {
        "id": "view-in-github",
        "colab_type": "text"
      },
      "source": [
        "<a href=\"https://colab.research.google.com/github/FERREIRACOELHO/ferreiracoelho/blob/main/listas1.ipynb\" target=\"_parent\"><img src=\"https://colab.research.google.com/assets/colab-badge.svg\" alt=\"Open In Colab\"/></a>"
      ]
    },
    {
      "cell_type": "code",
      "execution_count": null,
      "metadata": {
        "colab": {
          "base_uri": "https://localhost:8080/"
        },
        "id": "WPptMRi2HG_I",
        "outputId": "d0820942-1430-4d11-ab4d-e394839ba3fb"
      },
      "outputs": [
        {
          "output_type": "stream",
          "name": "stdout",
          "text": [
            "['manga', 'abacati', 'laranja', 'banana']\n",
            "['manga', 'abacati', 'kiwi', 'laranja', 'banana']\n",
            "['manga', 'abacati', 'kiwi', 'laranja']\n",
            "kiwi\n",
            "laranja\n",
            "['maça', 'abacati', 'kiwi', 'laranja']\n",
            "4\n",
            "['maça', 'abacati', 'kiwi', 'laranja', 'mixirica']\n",
            "5\n",
            "uva não está na lista\n",
            "['abacati', 'kiwi', 'laranja', 'mixirica']\n",
            "4\n"
          ]
        }
      ],
      "source": [
        "# criação de Listas\n",
        "frutas = ['manga', 'abacati', 'laranja']\n",
        "frutas.append ('banana')\n",
        "print (frutas)\n",
        "frutas.insert ( 2, 'kiwi')\n",
        "print (frutas)\n",
        "frutas.remove('banana')\n",
        "print (frutas)\n",
        "print (frutas[2])\n",
        "print(frutas[-1])\n",
        "frutas [0]= 'maça'\n",
        "print (frutas)\n",
        "print (len(frutas))\n",
        "frutas.append ('mixirica')\n",
        "print (frutas)\n",
        "print (len(frutas))\n",
        "if 'uva' in frutas:\n",
        "    print ('uva está na lista')\n",
        "else:\n",
        "    print ('uva não está na lista')\n",
        "    del frutas[0]\n",
        "    print (frutas)\n",
        "    print (len(frutas))"
      ]
    }
  ]
}