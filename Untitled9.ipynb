{
  "nbformat": 4,
  "nbformat_minor": 0,
  "metadata": {
    "colab": {
      "provenance": [],
      "authorship_tag": "ABX9TyM7x6c/4RHvw5Dh/mls53Qw",
      "include_colab_link": true
    },
    "kernelspec": {
      "name": "python3",
      "display_name": "Python 3"
    },
    "language_info": {
      "name": "python"
    }
  },
  "cells": [
    {
      "cell_type": "markdown",
      "metadata": {
        "id": "view-in-github",
        "colab_type": "text"
      },
      "source": [
        "<a href=\"https://colab.research.google.com/github/FERREIRACOELHO/ferreiracoelho/blob/main/Untitled9.ipynb\" target=\"_parent\"><img src=\"https://colab.research.google.com/assets/colab-badge.svg\" alt=\"Open In Colab\"/></a>"
      ]
    },
    {
      "cell_type": "code",
      "execution_count": 1,
      "metadata": {
        "colab": {
          "base_uri": "https://localhost:8080/"
        },
        "id": "FraTOGQgKWXs",
        "outputId": "7c770591-7b4f-4b7f-f928-fcfa3e61b95a"
      },
      "outputs": [
        {
          "output_type": "stream",
          "name": "stdout",
          "text": [
            "--- Avaliação de Cultura de Segurança ---\n",
            "Informe o setor: Xaroparia\n",
            "Você acredita que a segurança do trabalho é uma prioridade na empresa? 3\n",
            "Você se sente seguro ao executar suas atividades diárias? 2\n",
            "Você acredita que seus líderes dão o exemplo em relação às práticas de segurança? 1\n",
            "Você sabe como e para quem reportar uma situação de risco? 1\n",
            "Você já participou de treinamentos de segurança nos últimos 12 meses? 1\n",
            "Você conhece os principais riscos associados às suas atividades? 1\n",
            "Você se sente preparado para agir em caso de emergência? 1\n",
            "Como você avalia a qualidade dos treinamentos de segurança? 1\n",
            "Você segue os procedimentos de segurança, mesmo quando está com pressa? 1\n",
            "Você já presenciou algum colega deixando de seguir um procedimento de segurança? 1\n",
            "Caso veja uma situação insegura, você se sente à vontade para alertar seu colega? 1\n",
            "Você acredita que os EPIs fornecidos são adequados? 1\n",
            "Você considera os EPIs fornecidos confortáveis? 1\n",
            "A empresa investe na melhoria contínua das condições de segurança? 1\n",
            "Alguma vez você deixou de relatar um incidente ou quase acidente por medo de represálias? 1\n",
            "\n",
            "--- Resultado ---\n",
            "Setor: Xaroparia\n",
            "Pontuação Total: 0\n",
            "Classificação: Cultura de Segurança Fraca\n"
          ]
        }
      ],
      "source": [
        "def calcular_pontuacao(respostas):\n",
        "    \"\"\"Calcula a pontuação com base nas respostas.\"\"\"\n",
        "    pesos = {\n",
        "        \"Sim, sempre\": 3,\n",
        "        \"Às vezes\": 2,\n",
        "        \"Não, raramente\": 1,\n",
        "        \"Não, nunca\": 0,\n",
        "        \"Sim\": 2,\n",
        "        \"Não\": 0,\n",
        "        \"Sim, mais de uma vez\": 3,\n",
        "        \"Sim, uma vez\": 2,\n",
        "        \"Excelentes\": 3,\n",
        "        \"Bons\": 2,\n",
        "        \"Regulares\": 1,\n",
        "        \"Ruins\": 0,\n",
        "        \"Sim, de forma evidente\": 3,\n",
        "        \"Sim, mas poderia melhorar\": 2,\n",
        "        \"Não, pouco se vê investimento\": 1,\n",
        "        \"Não, nunca percebi melhorias\": 0,\n",
        "    }\n",
        "    return sum(pesos.get(resp, 0) for resp in respostas)\n",
        "\n",
        "\n",
        "def classificar_cultura(pontuacao, total_perguntas):\n",
        "    \"\"\"Classifica o nível de cultura de segurança baseado na pontuação.\"\"\"\n",
        "    media = pontuacao / total_perguntas\n",
        "    if media >= 2.5:\n",
        "        return \"Cultura de Segurança Forte\"\n",
        "    elif media >= 1.5:\n",
        "        return \"Cultura de Segurança Moderada\"\n",
        "    else:\n",
        "        return \"Cultura de Segurança Fraca\"\n",
        "\n",
        "\n",
        "def main():\n",
        "    print(\"--- Avaliação de Cultura de Segurança ---\")\n",
        "    setor = input(\"Informe o setor: \")\n",
        "\n",
        "    perguntas = [\n",
        "        \"Você acredita que a segurança do trabalho é uma prioridade na empresa?\",\n",
        "        \"Você se sente seguro ao executar suas atividades diárias?\",\n",
        "        \"Você acredita que seus líderes dão o exemplo em relação às práticas de segurança?\",\n",
        "        \"Você sabe como e para quem reportar uma situação de risco?\",\n",
        "        \"Você já participou de treinamentos de segurança nos últimos 12 meses?\",\n",
        "        \"Você conhece os principais riscos associados às suas atividades?\",\n",
        "        \"Você se sente preparado para agir em caso de emergência?\",\n",
        "        \"Como você avalia a qualidade dos treinamentos de segurança?\",\n",
        "        \"Você segue os procedimentos de segurança, mesmo quando está com pressa?\",\n",
        "        \"Você já presenciou algum colega deixando de seguir um procedimento de segurança?\",\n",
        "        \"Caso veja uma situação insegura, você se sente à vontade para alertar seu colega?\",\n",
        "        \"Você acredita que os EPIs fornecidos são adequados?\",\n",
        "        \"Você considera os EPIs fornecidos confortáveis?\",\n",
        "        \"A empresa investe na melhoria contínua das condições de segurança?\",\n",
        "        \"Alguma vez você deixou de relatar um incidente ou quase acidente por medo de represálias?\",\n",
        "    ]\n",
        "\n",
        "    respostas = []\n",
        "    for pergunta in perguntas:\n",
        "        resposta = input(f\"{pergunta} \")\n",
        "        respostas.append(resposta)\n",
        "\n",
        "    pontuacao = calcular_pontuacao(respostas)\n",
        "    classificacao = classificar_cultura(pontuacao, len(perguntas))\n",
        "\n",
        "    print(\"\\n--- Resultado ---\")\n",
        "    print(f\"Setor: {setor}\")\n",
        "    print(f\"Pontuação Total: {pontuacao}\")\n",
        "    print(f\"Classificação: {classificacao}\")\n",
        "\n",
        "if __name__ == \"__main__\":\n",
        "    main()\n"
      ]
    }
  ]
}